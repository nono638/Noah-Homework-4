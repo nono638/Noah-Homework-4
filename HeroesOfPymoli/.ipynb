{
 "cells": [
  {
   "cell_type": "markdown",
   "metadata": {},
   "source": [
    "### Note\n",
    "* Instructions have been included for each segment. You do not have to follow them exactly, but they are included to help you think through the steps."
   ]
  },
  {
   "cell_type": "code",
   "execution_count": null,
   "metadata": {},
   "outputs": [],
   "source": []
  },
  {
   "cell_type": "code",
   "execution_count": 1,
   "metadata": {},
   "outputs": [],
   "source": [
    "# Dependencies and Setup\n",
    "import pandas as pd\n",
    "\n",
    "# File to Load (Remember to Change These)\n",
    "file_to_load = \"Resources/purchase_data.csv\"\n",
    "\n",
    "# Read Purchasing File and store into Pandas data frame\n",
    "purchase_data = pd.read_csv(file_to_load)"
   ]
  },
  {
   "cell_type": "markdown",
   "metadata": {},
   "source": [
    "## Player Count"
   ]
  },
  {
   "cell_type": "markdown",
   "metadata": {},
   "source": [
    "* Display the total number of players\n",
    "purchase_data"
   ]
  },
  {
   "cell_type": "code",
   "execution_count": 2,
   "metadata": {},
   "outputs": [
    {
     "data": {
      "text/plain": [
       "780"
      ]
     },
     "execution_count": 2,
     "metadata": {},
     "output_type": "execute_result"
    }
   ],
   "source": [
    "purchase_data['Purchase ID'].count()"
   ]
  },
  {
   "cell_type": "markdown",
   "metadata": {},
   "source": [
    "## Purchasing Analysis (Total)"
   ]
  },
  {
   "cell_type": "markdown",
   "metadata": {},
   "source": [
    "* Run basic calculations to obtain number of unique items, average price, etc.\n",
    "\n",
    "\n",
    "* Create a summary data frame to hold the results\n",
    "\n",
    "\n",
    "* Optional: give the displayed data cleaner formatting\n",
    "\n",
    "\n",
    "* Display the summary data frame\n"
   ]
  },
  {
   "cell_type": "code",
   "execution_count": 3,
   "metadata": {},
   "outputs": [
    {
     "data": {
      "text/html": [
       "<div>\n",
       "<style scoped>\n",
       "    .dataframe tbody tr th:only-of-type {\n",
       "        vertical-align: middle;\n",
       "    }\n",
       "\n",
       "    .dataframe tbody tr th {\n",
       "        vertical-align: top;\n",
       "    }\n",
       "\n",
       "    .dataframe thead th {\n",
       "        text-align: right;\n",
       "    }\n",
       "</style>\n",
       "<table border=\"1\" class=\"dataframe\">\n",
       "  <thead>\n",
       "    <tr style=\"text-align: right;\">\n",
       "      <th></th>\n",
       "      <th>Purchase ID</th>\n",
       "      <th>SN</th>\n",
       "      <th>Age</th>\n",
       "      <th>Gender</th>\n",
       "      <th>Item ID</th>\n",
       "      <th>Item Name</th>\n",
       "      <th>Price</th>\n",
       "    </tr>\n",
       "  </thead>\n",
       "  <tbody>\n",
       "    <tr>\n",
       "      <td>0</td>\n",
       "      <td>0</td>\n",
       "      <td>Lisim78</td>\n",
       "      <td>20</td>\n",
       "      <td>Male</td>\n",
       "      <td>108</td>\n",
       "      <td>Extraction, Quickblade Of Trembling Hands</td>\n",
       "      <td>3.53</td>\n",
       "    </tr>\n",
       "    <tr>\n",
       "      <td>1</td>\n",
       "      <td>1</td>\n",
       "      <td>Lisovynya38</td>\n",
       "      <td>40</td>\n",
       "      <td>Male</td>\n",
       "      <td>143</td>\n",
       "      <td>Frenzied Scimitar</td>\n",
       "      <td>1.56</td>\n",
       "    </tr>\n",
       "    <tr>\n",
       "      <td>2</td>\n",
       "      <td>2</td>\n",
       "      <td>Ithergue48</td>\n",
       "      <td>24</td>\n",
       "      <td>Male</td>\n",
       "      <td>92</td>\n",
       "      <td>Final Critic</td>\n",
       "      <td>4.88</td>\n",
       "    </tr>\n",
       "    <tr>\n",
       "      <td>3</td>\n",
       "      <td>3</td>\n",
       "      <td>Chamassasya86</td>\n",
       "      <td>24</td>\n",
       "      <td>Male</td>\n",
       "      <td>100</td>\n",
       "      <td>Blindscythe</td>\n",
       "      <td>3.27</td>\n",
       "    </tr>\n",
       "    <tr>\n",
       "      <td>4</td>\n",
       "      <td>4</td>\n",
       "      <td>Iskosia90</td>\n",
       "      <td>23</td>\n",
       "      <td>Male</td>\n",
       "      <td>131</td>\n",
       "      <td>Fury</td>\n",
       "      <td>1.44</td>\n",
       "    </tr>\n",
       "    <tr>\n",
       "      <td>...</td>\n",
       "      <td>...</td>\n",
       "      <td>...</td>\n",
       "      <td>...</td>\n",
       "      <td>...</td>\n",
       "      <td>...</td>\n",
       "      <td>...</td>\n",
       "      <td>...</td>\n",
       "    </tr>\n",
       "    <tr>\n",
       "      <td>63</td>\n",
       "      <td>63</td>\n",
       "      <td>Alo38</td>\n",
       "      <td>20</td>\n",
       "      <td>Male</td>\n",
       "      <td>125</td>\n",
       "      <td>Whistling Mithril Warblade</td>\n",
       "      <td>1.00</td>\n",
       "    </tr>\n",
       "    <tr>\n",
       "      <td>64</td>\n",
       "      <td>64</td>\n",
       "      <td>Phaena87</td>\n",
       "      <td>20</td>\n",
       "      <td>Male</td>\n",
       "      <td>56</td>\n",
       "      <td>Foul Titanium Battle Axe</td>\n",
       "      <td>2.92</td>\n",
       "    </tr>\n",
       "    <tr>\n",
       "      <td>65</td>\n",
       "      <td>65</td>\n",
       "      <td>Chamirraya83</td>\n",
       "      <td>25</td>\n",
       "      <td>Male</td>\n",
       "      <td>34</td>\n",
       "      <td>Retribution Axe</td>\n",
       "      <td>2.22</td>\n",
       "    </tr>\n",
       "    <tr>\n",
       "      <td>66</td>\n",
       "      <td>66</td>\n",
       "      <td>Chanastsda67</td>\n",
       "      <td>21</td>\n",
       "      <td>Female</td>\n",
       "      <td>6</td>\n",
       "      <td>Rusty Skull</td>\n",
       "      <td>3.70</td>\n",
       "    </tr>\n",
       "    <tr>\n",
       "      <td>67</td>\n",
       "      <td>67</td>\n",
       "      <td>Lisim78</td>\n",
       "      <td>20</td>\n",
       "      <td>Male</td>\n",
       "      <td>138</td>\n",
       "      <td>Peacekeeper, Wit of Dark Magic</td>\n",
       "      <td>4.74</td>\n",
       "    </tr>\n",
       "  </tbody>\n",
       "</table>\n",
       "<p>68 rows × 7 columns</p>\n",
       "</div>"
      ],
      "text/plain": [
       "    Purchase ID             SN  Age  Gender  Item ID  \\\n",
       "0             0        Lisim78   20    Male      108   \n",
       "1             1    Lisovynya38   40    Male      143   \n",
       "2             2     Ithergue48   24    Male       92   \n",
       "3             3  Chamassasya86   24    Male      100   \n",
       "4             4      Iskosia90   23    Male      131   \n",
       "..          ...            ...  ...     ...      ...   \n",
       "63           63          Alo38   20    Male      125   \n",
       "64           64       Phaena87   20    Male       56   \n",
       "65           65   Chamirraya83   25    Male       34   \n",
       "66           66   Chanastsda67   21  Female        6   \n",
       "67           67        Lisim78   20    Male      138   \n",
       "\n",
       "                                    Item Name  Price  \n",
       "0   Extraction, Quickblade Of Trembling Hands   3.53  \n",
       "1                           Frenzied Scimitar   1.56  \n",
       "2                                Final Critic   4.88  \n",
       "3                                 Blindscythe   3.27  \n",
       "4                                        Fury   1.44  \n",
       "..                                        ...    ...  \n",
       "63                 Whistling Mithril Warblade   1.00  \n",
       "64                   Foul Titanium Battle Axe   2.92  \n",
       "65                            Retribution Axe   2.22  \n",
       "66                                Rusty Skull   3.70  \n",
       "67             Peacekeeper, Wit of Dark Magic   4.74  \n",
       "\n",
       "[68 rows x 7 columns]"
      ]
     },
     "execution_count": 3,
     "metadata": {},
     "output_type": "execute_result"
    }
   ],
   "source": [
    "#purchase_data.describe()\n",
    "purchase_data.head(68)\n"
   ]
  },
  {
   "cell_type": "code",
   "execution_count": 4,
   "metadata": {
    "scrolled": true
   },
   "outputs": [
    {
     "name": "stdout",
     "output_type": "stream",
     "text": [
      "The Number of Unique Items: 183\n",
      "\n",
      "The Average Price is: $3.05\n",
      "\n",
      "\n"
     ]
    },
    {
     "data": {
      "text/html": [
       "<div>\n",
       "<style scoped>\n",
       "    .dataframe tbody tr th:only-of-type {\n",
       "        vertical-align: middle;\n",
       "    }\n",
       "\n",
       "    .dataframe tbody tr th {\n",
       "        vertical-align: top;\n",
       "    }\n",
       "\n",
       "    .dataframe thead th {\n",
       "        text-align: right;\n",
       "    }\n",
       "</style>\n",
       "<table border=\"1\" class=\"dataframe\">\n",
       "  <thead>\n",
       "    <tr style=\"text-align: right;\">\n",
       "      <th></th>\n",
       "      <th>Number of Unique Items</th>\n",
       "      <th>The Average Overall Price</th>\n",
       "      <th>Number of Purchases</th>\n",
       "      <th>Total Revenue</th>\n",
       "    </tr>\n",
       "  </thead>\n",
       "  <tbody>\n",
       "    <tr>\n",
       "      <td>0</td>\n",
       "      <td>183</td>\n",
       "      <td>3.050987</td>\n",
       "      <td>780</td>\n",
       "      <td>$2379.77</td>\n",
       "    </tr>\n",
       "  </tbody>\n",
       "</table>\n",
       "</div>"
      ],
      "text/plain": [
       "   Number of Unique Items  The Average Overall Price  Number of Purchases  \\\n",
       "0                     183                   3.050987                  780   \n",
       "\n",
       "  Total Revenue  \n",
       "0      $2379.77  "
      ]
     },
     "execution_count": 4,
     "metadata": {},
     "output_type": "execute_result"
    }
   ],
   "source": [
    "dict1 = {}\n",
    "#Run basic calculations to obtain number of unique items....\n",
    "UniqueItems = purchase_data[\"Item ID\"].value_counts()\n",
    "UniqueItemsCount=UniqueItems.count()\n",
    "print(\"The Number of Unique Items: \" + str(UniqueItemsCount))\n",
    "#print(type(UniqueItems))\n",
    "dict1[\"Number of Unique Items\"]=[UniqueItemsCount]\n",
    "print()\n",
    "#... average price, etc.:\n",
    "averagePriceNum = purchase_data[\"Price\"].mean()\n",
    "print(\"The Average Price is: $\"+ str(round(averagePriceNum,2)))\n",
    "print()\n",
    "dict1[\"The Average Overall Price\"]=[averagePriceNum]\n",
    "\n",
    "dict1[\"Number of Purchases\"]= purchase_data[\"Purchase ID\"].count()\n",
    "\n",
    "TotalRevNum = purchase_data[\"Price\"].sum()\n",
    "TotalRevString = \"$\"+str(TotalRevNum)\n",
    "\n",
    "dict1[\"Total Revenue\"] = TotalRevString\n",
    "\n",
    "print()\n",
    "\n",
    "#Create a summary data frame to hold the results TODO????\n",
    "summarydf = pd.DataFrame(dict1)\n",
    "\n",
    "#summarydf[\"The Average Overall Price\"] = summarydf[\"The Average Overall Price\"].map(\"${:,2f}.format\")\n",
    "summarydf"
   ]
  },
  {
   "cell_type": "markdown",
   "metadata": {},
   "source": [
    "## Gender Demographics"
   ]
  },
  {
   "cell_type": "markdown",
   "metadata": {},
   "source": [
    "* Percentage and Count of Male Players\n",
    "\n",
    "\n",
    "* Percentage and Count of Female Players\n",
    "\n",
    "\n",
    "* Percentage and Count of Other / Non-Disclosed\n",
    "\n",
    "\n"
   ]
  },
  {
   "cell_type": "code",
   "execution_count": 5,
   "metadata": {},
   "outputs": [
    {
     "name": "stdout",
     "output_type": "stream",
     "text": [
      "{'Male': 0.8358974358974359, 'Other / Non-Disclosed': 0.019230769230769232, 'Female': 0.14487179487179488}\n"
     ]
    },
    {
     "data": {
      "text/html": [
       "<div>\n",
       "<style scoped>\n",
       "    .dataframe tbody tr th:only-of-type {\n",
       "        vertical-align: middle;\n",
       "    }\n",
       "\n",
       "    .dataframe tbody tr th {\n",
       "        vertical-align: top;\n",
       "    }\n",
       "\n",
       "    .dataframe thead th {\n",
       "        text-align: right;\n",
       "    }\n",
       "</style>\n",
       "<table border=\"1\" class=\"dataframe\">\n",
       "  <thead>\n",
       "    <tr style=\"text-align: right;\">\n",
       "      <th></th>\n",
       "      <th>Gender Percentage</th>\n",
       "    </tr>\n",
       "    <tr>\n",
       "      <th>Gender</th>\n",
       "      <th></th>\n",
       "    </tr>\n",
       "  </thead>\n",
       "  <tbody>\n",
       "    <tr>\n",
       "      <td>Male</td>\n",
       "      <td>0.835897</td>\n",
       "    </tr>\n",
       "    <tr>\n",
       "      <td>Other / Non-Disclosed</td>\n",
       "      <td>0.019231</td>\n",
       "    </tr>\n",
       "    <tr>\n",
       "      <td>Female</td>\n",
       "      <td>0.144872</td>\n",
       "    </tr>\n",
       "  </tbody>\n",
       "</table>\n",
       "</div>"
      ],
      "text/plain": [
       "                       Gender Percentage\n",
       "Gender                                  \n",
       "Male                            0.835897\n",
       "Other / Non-Disclosed           0.019231\n",
       "Female                          0.144872"
      ]
     },
     "execution_count": 5,
     "metadata": {},
     "output_type": "execute_result"
    }
   ],
   "source": [
    "GenderDemos= pd.DataFrame(None, columns=[\"Gender\",\"Gender Percentage\"])\n",
    "\n",
    "GenderDemos[\"Gender\"] = purchase_data[\"Gender\"].unique()\n",
    "GenderPercentDict = {}\n",
    "for i in GenderDemos[\"Gender\"]:\n",
    "    tempvalue = purchase_data.loc[purchase_data[\"Gender\"]==i,\"Gender\"].count() # This finds the amount of each gender\n",
    "    tempvalue = tempvalue / purchase_data[\"Gender\"].count() #this finds the percentage that represents\n",
    "    GenderPercentDict[i] = tempvalue #This puts it in a dictionary\n",
    "print(GenderPercentDict)\n",
    "\n",
    "\n",
    " #   Percentage and Count of Female Players\n",
    "  #  Percentage and Count of Other / Non-Disclosed\n",
    "\n",
    "\n",
    "Gender2 = GenderDemos.set_index(\"Gender\") #make a df with gender as index\n",
    "\n",
    "Gender2[\"Gender Percentage\"]=GenderPercentDict.values() #set the values of the dictionary, a list, as the values in the df\n",
    "Gender2.head()\n",
    "\n",
    "#Attention DK / TJ: I didn't round in the earlier step.  That might why my results are slightly off.  "
   ]
  },
  {
   "cell_type": "markdown",
   "metadata": {},
   "source": [
    "\n",
    "## Purchasing Analysis (Gender)"
   ]
  },
  {
   "cell_type": "markdown",
   "metadata": {},
   "source": [
    "* Run basic calculations to obtain purchase count, avg. purchase price, avg. purchase total per person etc. by gender\n",
    "\n",
    "\n",
    "\n",
    "\n",
    "* Create a summary data frame to hold the results\n",
    "\n",
    "\n",
    "* Optional: give the displayed data cleaner formatting\n",
    "\n",
    "\n",
    "* Display the summary data frame"
   ]
  },
  {
   "cell_type": "code",
   "execution_count": 6,
   "metadata": {},
   "outputs": [
    {
     "data": {
      "text/html": [
       "<div>\n",
       "<style scoped>\n",
       "    .dataframe tbody tr th:only-of-type {\n",
       "        vertical-align: middle;\n",
       "    }\n",
       "\n",
       "    .dataframe tbody tr th {\n",
       "        vertical-align: top;\n",
       "    }\n",
       "\n",
       "    .dataframe thead th {\n",
       "        text-align: right;\n",
       "    }\n",
       "</style>\n",
       "<table border=\"1\" class=\"dataframe\">\n",
       "  <thead>\n",
       "    <tr style=\"text-align: right;\">\n",
       "      <th></th>\n",
       "      <th>Gender Percentage</th>\n",
       "      <th>purchase count</th>\n",
       "      <th>avg. purchase price</th>\n",
       "      <th>avg. purchase total (amount?) per person</th>\n",
       "    </tr>\n",
       "    <tr>\n",
       "      <th>Gender</th>\n",
       "      <th></th>\n",
       "      <th></th>\n",
       "      <th></th>\n",
       "      <th></th>\n",
       "    </tr>\n",
       "  </thead>\n",
       "  <tbody>\n",
       "    <tr>\n",
       "      <td>Male</td>\n",
       "      <td>0.835897</td>\n",
       "      <td>652</td>\n",
       "      <td>3.01785</td>\n",
       "      <td>1.34711</td>\n",
       "    </tr>\n",
       "    <tr>\n",
       "      <td>Other / Non-Disclosed</td>\n",
       "      <td>0.019231</td>\n",
       "      <td>15</td>\n",
       "      <td>3.346</td>\n",
       "      <td>1.39506</td>\n",
       "    </tr>\n",
       "    <tr>\n",
       "      <td>Female</td>\n",
       "      <td>0.144872</td>\n",
       "      <td>113</td>\n",
       "      <td>3.20301</td>\n",
       "      <td>1.36364</td>\n",
       "    </tr>\n",
       "  </tbody>\n",
       "</table>\n",
       "</div>"
      ],
      "text/plain": [
       "                       Gender Percentage  purchase count avg. purchase price  \\\n",
       "Gender                                                                         \n",
       "Male                            0.835897             652             3.01785   \n",
       "Other / Non-Disclosed           0.019231              15               3.346   \n",
       "Female                          0.144872             113             3.20301   \n",
       "\n",
       "                      avg. purchase total (amount?) per person  \n",
       "Gender                                                          \n",
       "Male                                                   1.34711  \n",
       "Other / Non-Disclosed                                  1.39506  \n",
       "Female                                                 1.36364  "
      ]
     },
     "execution_count": 6,
     "metadata": {},
     "output_type": "execute_result"
    }
   ],
   "source": [
    "Gender2[\"purchase count\"]=None\n",
    "Gender2[\"avg. purchase price\"]=None\n",
    "Gender2[\"avg. purchase total (amount?) per person\"]=None\n",
    "\n",
    "Gender2.iloc[0,1] = purchase_data.loc[purchase_data[\"Gender\"]==\"Male\",\"Gender\"].count()\n",
    "Gender2.iloc[0,2]= purchase_data.loc[purchase_data[\"Gender\"]==\"Male\",\"Price\"].mean()\n",
    "\n",
    "Gender2.iloc[1,1] = purchase_data.loc[purchase_data[\"Gender\"]==\"Other / Non-Disclosed\",\"Gender\"].count()\n",
    "Gender2.iloc[1,2]= purchase_data.loc[purchase_data[\"Gender\"]==\"Other / Non-Disclosed\",\"Price\"].mean()\n",
    "\n",
    "\n",
    "Gender2.iloc[2,1] = purchase_data.loc[purchase_data[\"Gender\"]==\"Female\",\"Gender\"].count()\n",
    "Gender2.iloc[2,2]= purchase_data.loc[purchase_data[\"Gender\"]==\"Female\",\"Price\"].mean()\n",
    "\n",
    "\n",
    "\n",
    "Gender2.iloc[0,3]= purchase_data.loc[purchase_data[\"Gender\"]==\"Male\",\"SN\"].count() \\\n",
    "/ purchase_data.loc[purchase_data[\"Gender\"]==\"Male\",\"SN\"].nunique()\n",
    "\n",
    "Gender2.iloc[1,3]= purchase_data.loc[purchase_data[\"Gender\"]==\"Female\",\"SN\"].count() \\\n",
    "/ purchase_data.loc[purchase_data[\"Gender\"]==\"Female\",\"SN\"].nunique()\n",
    "Gender2.head()\n",
    "\n",
    "Gender2.iloc[2,3]= purchase_data.loc[purchase_data[\"Gender\"]==\"Other / Non-Disclosed\",\"SN\"].count() \\\n",
    "/ purchase_data.loc[purchase_data[\"Gender\"]==\"Other / Non-Disclosed\",\"SN\"].nunique()\n",
    "Gender2.head()\n",
    "\n",
    "\n",
    "\n",
    "\n",
    "#This dictionary figures out the total amount purchased per person, average to follow\n",
    "#TotalPurchasePerPersonDict={}\n",
    "#count= 0\n",
    "#for i in purchase_data[\"SN\"]:\n",
    "#    if i not in TotalPurchasePerPersonDict:\n",
    " #       TotalPurchasePerPersonDict[i]=0 #Initialize dict entry:\n",
    "  #  TotalPurchasePerPersonDict[i] += purchase_data.iloc[count,6]\n",
    "   # count=count+1\n",
    "\n",
    "#This dictionary figures out the average purchase using the total purchase figured out above\n",
    "#AveragePerPersonDict = TotalPurchasePerPersonDict\n",
    "\n",
    "#for i in AveragePerPersonDict:\n",
    " #   AveragePerPersonDict[i]=AveragePerPersonDict[i] / purchase_data.loc[purchase_data[\"SN\"]==i,\"Price\"].count()\n",
    "\n",
    "    \n",
    "    \n",
    "    \n",
    "#df3 = purchase_data[[\"SN\",\"Gender\",\"Price\"]]\n",
    "#df4 = df3.set_index(\"SN\") #make a df with SN as index\n",
    "#df4.head(69)\n",
    "\n",
    "#df5 =pd.DataFrame(None)\n",
    "#df5[\"SN\"]=AveragePerPersonDict.keys()\n",
    "#df5[\"Average Per Person\"] = AveragePerPersonDict.values()\n",
    "#df5.head()\n",
    "\n",
    "\n",
    "#MaleTotalAverage=0\n",
    "#FemaleTotalAverage=0\n",
    "#OtherNonDisclosedTotalAverage=0\n",
    "\n",
    "\n",
    "#for v,k in AveragePerPersonDict.items():\n",
    " #   ResultantGender = purchase_data.loc[purchase_data[\"SN\"]== v,\"Gender\"]\n",
    "  #  #print(ResultantGender)\n",
    "   # ResultantGender2 = str(ResultantGender.at[0])\n",
    "   # if(ResultantGender2 == \"Male\"):\n",
    "   #     MaleTotalAverage = MaleTotalAverage + k\n",
    "   # elif(ResultantGender2 == \"Female\"):\n",
    "   #     FemaleTotalAverage = FemaleTotalAverage + k\n",
    "   # elif(ResultantGender2 == \"Other / Non-Disclosed\"):\n",
    "   #     OtherNonDisclosedTotalAverage = OtherNonDisclosedTotalAverage + k\n",
    "   # else:\n",
    "   #     print(\"You shouldnt see this message:\")\n",
    "   #     print(\"v: \" + v + \" ,k: \" + str(k))\n",
    "    \n",
    "    \n",
    "\n",
    "#Gender2.loc[\"Male\",\"Avg Total Purchase per Person\"] = \\\n",
    "#purchase_data.loc[purchase_data[\"Gender\"]==\"Male\",]\n",
    "#purchase_data[\"SN\"].nunique()\n",
    "#purchase_data[\"SN\"].count()\n",
    "#Gender2"
   ]
  },
  {
   "cell_type": "markdown",
   "metadata": {},
   "source": [
    "## Age Demographics"
   ]
  },
  {
   "cell_type": "markdown",
   "metadata": {},
   "source": [
    "* Establish bins for ages\n",
    "\n",
    "\n",
    "* Categorize the existing players using the age bins. Hint: use pd.cut()\n",
    "\n",
    "\n",
    "* Calculate the numbers and percentages by age group\n",
    "\n",
    "\n",
    "* Create a summary data frame to hold the results\n",
    "\n",
    "\n",
    "* Optional: round the percentage column to two decimal points\n",
    "\n",
    "\n",
    "* Display Age Demographics Table\n"
   ]
  },
  {
   "cell_type": "code",
   "execution_count": 33,
   "metadata": {},
   "outputs": [
    {
     "data": {
      "text/html": [
       "<div>\n",
       "<style scoped>\n",
       "    .dataframe tbody tr th:only-of-type {\n",
       "        vertical-align: middle;\n",
       "    }\n",
       "\n",
       "    .dataframe tbody tr th {\n",
       "        vertical-align: top;\n",
       "    }\n",
       "\n",
       "    .dataframe thead th {\n",
       "        text-align: right;\n",
       "    }\n",
       "</style>\n",
       "<table border=\"1\" class=\"dataframe\">\n",
       "  <thead>\n",
       "    <tr style=\"text-align: right;\">\n",
       "      <th></th>\n",
       "      <th>counts</th>\n",
       "    </tr>\n",
       "    <tr>\n",
       "      <th>Age_Groups</th>\n",
       "      <th></th>\n",
       "    </tr>\n",
       "  </thead>\n",
       "  <tbody>\n",
       "    <tr>\n",
       "      <td>&lt;10</td>\n",
       "      <td>32</td>\n",
       "    </tr>\n",
       "    <tr>\n",
       "      <td>11-20</td>\n",
       "      <td>254</td>\n",
       "    </tr>\n",
       "    <tr>\n",
       "      <td>21-30</td>\n",
       "      <td>402</td>\n",
       "    </tr>\n",
       "    <tr>\n",
       "      <td>31-40</td>\n",
       "      <td>85</td>\n",
       "    </tr>\n",
       "    <tr>\n",
       "      <td>41-50</td>\n",
       "      <td>7</td>\n",
       "    </tr>\n",
       "    <tr>\n",
       "      <td>51-60</td>\n",
       "      <td>0</td>\n",
       "    </tr>\n",
       "    <tr>\n",
       "      <td>61-70</td>\n",
       "      <td>0</td>\n",
       "    </tr>\n",
       "    <tr>\n",
       "      <td>70+</td>\n",
       "      <td>0</td>\n",
       "    </tr>\n",
       "  </tbody>\n",
       "</table>\n",
       "</div>"
      ],
      "text/plain": [
       "            counts\n",
       "Age_Groups        \n",
       "<10             32\n",
       "11-20          254\n",
       "21-30          402\n",
       "31-40           85\n",
       "41-50            7\n",
       "51-60            0\n",
       "61-70            0\n",
       "70+              0"
      ]
     },
     "execution_count": 33,
     "metadata": {},
     "output_type": "execute_result"
    }
   ],
   "source": [
    "bins = [0,10,20,30,40,50,60,70,1000]\n",
    "group_names=[\"<10\",\"11-20\",\"21-30\",\"31-40\",\"41-50\",\"51-60\",\"61-70\",\"70+\"]\n",
    "\n",
    "\n",
    "\n",
    "df6=purchase_data[\"Age\"].value_counts().rename_axis('age').reset_index(name='counts')\n",
    "df6.head()\n",
    "df6[\"Age_Groups\"]=pd.cut(df6[\"age\"], bins, labels=group_names)\n",
    "df6\n",
    "AgeDf2 = df6.groupby([\"Age_Groups\"])\n",
    "AgeDf2.sum().drop(\"age\", axis=1)\n",
    "#AgeDf2\n",
    "#AgeDf2[\"Age Percentage\"] = AgeDf2[\"Age Groups\"] / AgeDf2[\"Age Groups\"].value_counts().sum()\n",
    "\n",
    "#type(AgeDf[\"Age Count\"])\n",
    "#AgeDf2.count()\n",
    "\n",
    "\n",
    "#AgeDf= AgeDf[\"Age Groups\"]\n",
    "#AgeDf.head(50)\n",
    "#df[\"Test Score Summary\"] = pd.cut(df[\"Test Score\"], bins, labels=group_names)\n",
    "aa= purchase_data[\"Age\"] > 50\n",
    "count=0\n",
    "d=[count+1 for a in aa if a==True]\n",
    "#count\n",
    "AgeDf2.sum().drop(\"age\", axis=1)\n",
    "#df6.head()"
   ]
  },
  {
   "cell_type": "markdown",
   "metadata": {},
   "source": [
    "## Purchasing Analysis (Age)"
   ]
  },
  {
   "cell_type": "markdown",
   "metadata": {},
   "source": [
    "* Bin the purchase_data data frame by age\n",
    "\n",
    "\n",
    "* Run basic calculations to obtain purchase count, avg. purchase price, avg. purchase total per person etc. in the table below\n",
    "\n",
    "\n",
    "* Create a summary data frame to hold the results\n",
    "\n",
    "\n",
    "* Optional: give the displayed data cleaner formatting\n",
    "\n",
    "\n",
    "* Display the summary data frame"
   ]
  },
  {
   "cell_type": "code",
   "execution_count": 31,
   "metadata": {},
   "outputs": [
    {
     "data": {
      "text/html": [
       "<div>\n",
       "<style scoped>\n",
       "    .dataframe tbody tr th:only-of-type {\n",
       "        vertical-align: middle;\n",
       "    }\n",
       "\n",
       "    .dataframe tbody tr th {\n",
       "        vertical-align: top;\n",
       "    }\n",
       "\n",
       "    .dataframe thead th {\n",
       "        text-align: right;\n",
       "    }\n",
       "</style>\n",
       "<table border=\"1\" class=\"dataframe\">\n",
       "  <thead>\n",
       "    <tr style=\"text-align: right;\">\n",
       "      <th></th>\n",
       "      <th>Purchase Count</th>\n",
       "      <th>Mean Price</th>\n",
       "      <th>Avg. purchase total [count] per person</th>\n",
       "    </tr>\n",
       "  </thead>\n",
       "  <tbody>\n",
       "    <tr>\n",
       "      <td>0</td>\n",
       "      <td>780</td>\n",
       "      <td>3.050987</td>\n",
       "      <td>1.354167</td>\n",
       "    </tr>\n",
       "  </tbody>\n",
       "</table>\n",
       "</div>"
      ],
      "text/plain": [
       "   Purchase Count  Mean Price  Avg. purchase total [count] per person\n",
       "0             780    3.050987                                1.354167"
      ]
     },
     "execution_count": 31,
     "metadata": {},
     "output_type": "execute_result"
    }
   ],
   "source": [
    "#Above:\n",
    "#bins = [0,10,20,30,40,50,60,70,1000]\n",
    "#group_names=[\">11\",\"11-20\",\"21-30\",\"31-40\",\"41-50\",\"51-60\",\"61-70\",\"70+\"]\n",
    "#AgeDf[\"Age Count\"] = purchase_data[\"Age\"].value_counts()\n",
    "#AgeDf[\"Age Groups\"]=pd.cut(AgeDf[\"Age Count\"], bins, labels=group_names)\n",
    "#AgeDf2 = AgeDf.groupby([\"Age Groups\"])\n",
    "\n",
    "#reset_index??\n",
    "#purchase_count_1 = pd.DataFrame(None)\n",
    "#purchase_count_1.set_index(purchase_data[\"Age\"])\n",
    "purchase_count_7 = purchase_data[\"Purchase ID\"].count()\n",
    "mean_price_7 = purchase_data[\"Price\"].mean()\n",
    "Avg_purchase_total_count_per_person = purchase_data[\"Purchase ID\"].count() / purchase_data[\"SN\"].nunique()\n",
    "purchase_count_1 = pd.DataFrame({\"Purchase Count\":[purchase_count_7],\"Mean Price\":[mean_price_7],\"Avg. purchase total [count] per person\":[Avg_purchase_total_count_per_person]})\n",
    "#purchase_count_1[\"Age Groups\"] = pd.cut(df6[\"age\"], bins, labels=group_names)\n",
    "purchase_count_1\n"
   ]
  },
  {
   "cell_type": "markdown",
   "metadata": {},
   "source": [
    "## Top Spenders"
   ]
  },
  {
   "cell_type": "markdown",
   "metadata": {},
   "source": [
    "* Run basic calculations to obtain the results in the table below\n",
    "\n",
    "\n",
    "* Create a summary data frame to hold the results\n",
    "\n",
    "\n",
    "* Sort the total purchase value column in descending order\n",
    "\n",
    "\n",
    "* Optional: give the displayed data cleaner formatting\n",
    "\n",
    "\n",
    "* Display a preview of the summary data frame\n",
    "\n"
   ]
  },
  {
   "cell_type": "code",
   "execution_count": null,
   "metadata": {},
   "outputs": [],
   "source": []
  },
  {
   "cell_type": "markdown",
   "metadata": {},
   "source": [
    "## Most Popular Items"
   ]
  },
  {
   "cell_type": "markdown",
   "metadata": {},
   "source": [
    "* Retrieve the Item ID, Item Name, and Item Price columns\n",
    "\n",
    "\n",
    "* Group by Item ID and Item Name. Perform calculations to obtain purchase count, item price, and total purchase value\n",
    "\n",
    "\n",
    "* Create a summary data frame to hold the results\n",
    "\n",
    "\n",
    "* Sort the purchase count column in descending order\n",
    "\n",
    "\n",
    "* Optional: give the displayed data cleaner formatting\n",
    "\n",
    "\n",
    "* Display a preview of the summary data frame\n",
    "\n"
   ]
  },
  {
   "cell_type": "code",
   "execution_count": null,
   "metadata": {},
   "outputs": [],
   "source": []
  },
  {
   "cell_type": "markdown",
   "metadata": {},
   "source": [
    "## Most Profitable Items"
   ]
  },
  {
   "cell_type": "markdown",
   "metadata": {},
   "source": [
    "* Sort the above table by total purchase value in descending order\n",
    "\n",
    "\n",
    "* Optional: give the displayed data cleaner formatting\n",
    "\n",
    "\n",
    "* Display a preview of the data frame\n",
    "\n"
   ]
  },
  {
   "cell_type": "code",
   "execution_count": null,
   "metadata": {
    "scrolled": true
   },
   "outputs": [],
   "source": []
  }
 ],
 "metadata": {
  "anaconda-cloud": {},
  "kernel_info": {
   "name": "python3"
  },
  "kernelspec": {
   "display_name": "Python 3",
   "language": "python",
   "name": "python3"
  },
  "language_info": {
   "codemirror_mode": {
    "name": "ipython",
    "version": 3
   },
   "file_extension": ".py",
   "mimetype": "text/x-python",
   "name": "python",
   "nbconvert_exporter": "python",
   "pygments_lexer": "ipython3",
   "version": "3.6.9"
  },
  "latex_envs": {
   "LaTeX_envs_menu_present": true,
   "autoclose": false,
   "autocomplete": true,
   "bibliofile": "biblio.bib",
   "cite_by": "apalike",
   "current_citInitial": 1,
   "eqLabelWithNumbers": true,
   "eqNumInitial": 1,
   "hotkeys": {
    "equation": "Ctrl-E",
    "itemize": "Ctrl-I"
   },
   "labels_anchors": false,
   "latex_user_defs": false,
   "report_style_numbering": false,
   "user_envs_cfg": false
  },
  "nteract": {
   "version": "0.2.0"
  }
 },
 "nbformat": 4,
 "nbformat_minor": 2
}
