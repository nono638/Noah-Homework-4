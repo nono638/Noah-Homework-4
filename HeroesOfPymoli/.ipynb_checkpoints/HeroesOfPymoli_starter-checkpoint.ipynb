{
 "cells": [
  {
   "cell_type": "markdown",
   "metadata": {},
   "source": [
    "### Note\n",
    "* Instructions have been included for each segment. You do not have to follow them exactly, but they are included to help you think through the steps."
   ]
  },
  {
   "cell_type": "code",
   "execution_count": null,
   "metadata": {},
   "outputs": [],
   "source": []
  },
  {
   "cell_type": "code",
   "execution_count": 1,
   "metadata": {},
   "outputs": [],
   "source": [
    "# Dependencies and Setup\n",
    "import pandas as pd\n",
    "\n",
    "# File to Load (Remember to Change These)\n",
    "file_to_load = \"Resources/purchase_data.csv\"\n",
    "\n",
    "# Read Purchasing File and store into Pandas data frame\n",
    "purchase_data = pd.read_csv(file_to_load)"
   ]
  },
  {
   "cell_type": "markdown",
   "metadata": {},
   "source": [
    "## Player Count"
   ]
  },
  {
   "cell_type": "markdown",
   "metadata": {},
   "source": [
    "* Display the total number of players\n",
    "purchase_data"
   ]
  },
  {
   "cell_type": "code",
   "execution_count": 2,
   "metadata": {},
   "outputs": [
    {
     "data": {
      "text/plain": [
       "780"
      ]
     },
     "execution_count": 2,
     "metadata": {},
     "output_type": "execute_result"
    }
   ],
   "source": [
    "purchase_data['Purchase ID'].count()"
   ]
  },
  {
   "cell_type": "markdown",
   "metadata": {},
   "source": [
    "## Purchasing Analysis (Total)"
   ]
  },
  {
   "cell_type": "markdown",
   "metadata": {},
   "source": [
    "* Run basic calculations to obtain number of unique items, average price, etc.\n",
    "\n",
    "\n",
    "* Create a summary data frame to hold the results\n",
    "\n",
    "\n",
    "* Optional: give the displayed data cleaner formatting\n",
    "\n",
    "\n",
    "* Display the summary data frame\n"
   ]
  },
  {
   "cell_type": "code",
   "execution_count": 3,
   "metadata": {},
   "outputs": [
    {
     "data": {
      "text/html": [
       "<div>\n",
       "<style scoped>\n",
       "    .dataframe tbody tr th:only-of-type {\n",
       "        vertical-align: middle;\n",
       "    }\n",
       "\n",
       "    .dataframe tbody tr th {\n",
       "        vertical-align: top;\n",
       "    }\n",
       "\n",
       "    .dataframe thead th {\n",
       "        text-align: right;\n",
       "    }\n",
       "</style>\n",
       "<table border=\"1\" class=\"dataframe\">\n",
       "  <thead>\n",
       "    <tr style=\"text-align: right;\">\n",
       "      <th></th>\n",
       "      <th>Purchase ID</th>\n",
       "      <th>SN</th>\n",
       "      <th>Age</th>\n",
       "      <th>Gender</th>\n",
       "      <th>Item ID</th>\n",
       "      <th>Item Name</th>\n",
       "      <th>Price</th>\n",
       "    </tr>\n",
       "  </thead>\n",
       "  <tbody>\n",
       "    <tr>\n",
       "      <td>0</td>\n",
       "      <td>0</td>\n",
       "      <td>Lisim78</td>\n",
       "      <td>20</td>\n",
       "      <td>Male</td>\n",
       "      <td>108</td>\n",
       "      <td>Extraction, Quickblade Of Trembling Hands</td>\n",
       "      <td>3.53</td>\n",
       "    </tr>\n",
       "    <tr>\n",
       "      <td>1</td>\n",
       "      <td>1</td>\n",
       "      <td>Lisovynya38</td>\n",
       "      <td>40</td>\n",
       "      <td>Male</td>\n",
       "      <td>143</td>\n",
       "      <td>Frenzied Scimitar</td>\n",
       "      <td>1.56</td>\n",
       "    </tr>\n",
       "    <tr>\n",
       "      <td>2</td>\n",
       "      <td>2</td>\n",
       "      <td>Ithergue48</td>\n",
       "      <td>24</td>\n",
       "      <td>Male</td>\n",
       "      <td>92</td>\n",
       "      <td>Final Critic</td>\n",
       "      <td>4.88</td>\n",
       "    </tr>\n",
       "    <tr>\n",
       "      <td>3</td>\n",
       "      <td>3</td>\n",
       "      <td>Chamassasya86</td>\n",
       "      <td>24</td>\n",
       "      <td>Male</td>\n",
       "      <td>100</td>\n",
       "      <td>Blindscythe</td>\n",
       "      <td>3.27</td>\n",
       "    </tr>\n",
       "    <tr>\n",
       "      <td>4</td>\n",
       "      <td>4</td>\n",
       "      <td>Iskosia90</td>\n",
       "      <td>23</td>\n",
       "      <td>Male</td>\n",
       "      <td>131</td>\n",
       "      <td>Fury</td>\n",
       "      <td>1.44</td>\n",
       "    </tr>\n",
       "  </tbody>\n",
       "</table>\n",
       "</div>"
      ],
      "text/plain": [
       "   Purchase ID             SN  Age Gender  Item ID  \\\n",
       "0            0        Lisim78   20   Male      108   \n",
       "1            1    Lisovynya38   40   Male      143   \n",
       "2            2     Ithergue48   24   Male       92   \n",
       "3            3  Chamassasya86   24   Male      100   \n",
       "4            4      Iskosia90   23   Male      131   \n",
       "\n",
       "                                   Item Name  Price  \n",
       "0  Extraction, Quickblade Of Trembling Hands   3.53  \n",
       "1                          Frenzied Scimitar   1.56  \n",
       "2                               Final Critic   4.88  \n",
       "3                                Blindscythe   3.27  \n",
       "4                                       Fury   1.44  "
      ]
     },
     "execution_count": 3,
     "metadata": {},
     "output_type": "execute_result"
    }
   ],
   "source": [
    "#purchase_data.describe()\n",
    "purchase_data.head(5)"
   ]
  },
  {
   "cell_type": "code",
   "execution_count": 7,
   "metadata": {
    "scrolled": true
   },
   "outputs": [
    {
     "name": "stdout",
     "output_type": "stream",
     "text": [
      "The Number of Unique Items: 183\n",
      "\n",
      "The Average Price is: $3.05\n",
      "\n",
      "\n"
     ]
    },
    {
     "data": {
      "text/html": [
       "<div>\n",
       "<style scoped>\n",
       "    .dataframe tbody tr th:only-of-type {\n",
       "        vertical-align: middle;\n",
       "    }\n",
       "\n",
       "    .dataframe tbody tr th {\n",
       "        vertical-align: top;\n",
       "    }\n",
       "\n",
       "    .dataframe thead th {\n",
       "        text-align: right;\n",
       "    }\n",
       "</style>\n",
       "<table border=\"1\" class=\"dataframe\">\n",
       "  <thead>\n",
       "    <tr style=\"text-align: right;\">\n",
       "      <th></th>\n",
       "      <th>Number of Unique Items</th>\n",
       "      <th>The Average Overall Price</th>\n",
       "      <th>Number of Purchases</th>\n",
       "      <th>Total Revenue</th>\n",
       "    </tr>\n",
       "  </thead>\n",
       "  <tbody>\n",
       "    <tr>\n",
       "      <td>0</td>\n",
       "      <td>183</td>\n",
       "      <td>3.050987</td>\n",
       "      <td>780</td>\n",
       "      <td>$2379.77</td>\n",
       "    </tr>\n",
       "  </tbody>\n",
       "</table>\n",
       "</div>"
      ],
      "text/plain": [
       "   Number of Unique Items  The Average Overall Price  Number of Purchases  \\\n",
       "0                     183                   3.050987                  780   \n",
       "\n",
       "  Total Revenue  \n",
       "0      $2379.77  "
      ]
     },
     "execution_count": 7,
     "metadata": {},
     "output_type": "execute_result"
    }
   ],
   "source": [
    "dict1 = {}\n",
    "#Run basic calculations to obtain number of unique items....\n",
    "UniqueItems = purchase_data[\"Item ID\"].value_counts()\n",
    "UniqueItemsCount=UniqueItems.count()\n",
    "print(\"The Number of Unique Items: \" + str(UniqueItemsCount))\n",
    "#print(type(UniqueItems))\n",
    "dict1[\"Number of Unique Items\"]=[UniqueItemsCount]\n",
    "print()\n",
    "#... average price, etc.:\n",
    "averagePriceNum = purchase_data[\"Price\"].mean()\n",
    "print(\"The Average Price is: $\"+ str(round(averagePriceNum,2)))\n",
    "print()\n",
    "dict1[\"The Average Overall Price\"]=[averagePriceNum]\n",
    "\n",
    "dict1[\"Number of Purchases\"]= purchase_data[\"Purchase ID\"].count()\n",
    "\n",
    "TotalRevNum = purchase_data[\"Price\"].sum()\n",
    "TotalRevString = \"$\"+str(TotalRevNum)\n",
    "\n",
    "dict1[\"Total Revenue\"] = TotalRevString\n",
    "\n",
    "print()\n",
    "\n",
    "#Create a summary data frame to hold the results TODO????\n",
    "summarydf = pd.DataFrame(dict1)\n",
    "\n",
    "#summarydf[\"The Average Overall Price\"] = summarydf[\"The Average Overall Price\"].map(\"${:,2f}.format\")\n",
    "summarydf"
   ]
  },
  {
   "cell_type": "markdown",
   "metadata": {},
   "source": [
    "## Gender Demographics"
   ]
  },
  {
   "cell_type": "markdown",
   "metadata": {},
   "source": [
    "* Percentage and Count of Male Players\n",
    "\n",
    "\n",
    "* Percentage and Count of Female Players\n",
    "\n",
    "\n",
    "* Percentage and Count of Other / Non-Disclosed\n",
    "\n",
    "\n"
   ]
  },
  {
   "cell_type": "code",
   "execution_count": 8,
   "metadata": {},
   "outputs": [
    {
     "name": "stdout",
     "output_type": "stream",
     "text": [
      "{'Male': 0.8358974358974359, 'Other / Non-Disclosed': 0.019230769230769232, 'Female': 0.14487179487179488}\n"
     ]
    },
    {
     "data": {
      "text/html": [
       "<div>\n",
       "<style scoped>\n",
       "    .dataframe tbody tr th:only-of-type {\n",
       "        vertical-align: middle;\n",
       "    }\n",
       "\n",
       "    .dataframe tbody tr th {\n",
       "        vertical-align: top;\n",
       "    }\n",
       "\n",
       "    .dataframe thead th {\n",
       "        text-align: right;\n",
       "    }\n",
       "</style>\n",
       "<table border=\"1\" class=\"dataframe\">\n",
       "  <thead>\n",
       "    <tr style=\"text-align: right;\">\n",
       "      <th></th>\n",
       "      <th>Gender Percentage</th>\n",
       "    </tr>\n",
       "    <tr>\n",
       "      <th>Gender</th>\n",
       "      <th></th>\n",
       "    </tr>\n",
       "  </thead>\n",
       "  <tbody>\n",
       "    <tr>\n",
       "      <td>Male</td>\n",
       "      <td>0.835897</td>\n",
       "    </tr>\n",
       "    <tr>\n",
       "      <td>Other / Non-Disclosed</td>\n",
       "      <td>0.019231</td>\n",
       "    </tr>\n",
       "    <tr>\n",
       "      <td>Female</td>\n",
       "      <td>0.144872</td>\n",
       "    </tr>\n",
       "  </tbody>\n",
       "</table>\n",
       "</div>"
      ],
      "text/plain": [
       "                       Gender Percentage\n",
       "Gender                                  \n",
       "Male                            0.835897\n",
       "Other / Non-Disclosed           0.019231\n",
       "Female                          0.144872"
      ]
     },
     "execution_count": 8,
     "metadata": {},
     "output_type": "execute_result"
    }
   ],
   "source": [
    "GenderDemos= pd.DataFrame(None, columns=[\"Gender\",\"Gender Percentage\"])\n",
    "\n",
    "GenderDemos[\"Gender\"] = purchase_data[\"Gender\"].unique()\n",
    "GenderPercentDict = {}\n",
    "for i in GenderDemos[\"Gender\"]:\n",
    "    tempvalue = purchase_data.loc[purchase_data[\"Gender\"]==i,\"Gender\"].count() # This finds the amount of each gender\n",
    "    tempvalue = tempvalue / purchase_data[\"Gender\"].count() #this finds the percentage that represents\n",
    "    GenderPercentDict[i] = tempvalue #This puts it in a dictionary\n",
    "print(GenderPercentDict)\n",
    "\n",
    "\n",
    " #   Percentage and Count of Female Players\n",
    "  #  Percentage and Count of Other / Non-Disclosed\n",
    "\n",
    "\n",
    "Gender2 = GenderDemos.set_index(\"Gender\") #make a df with gender as index\n",
    "\n",
    "Gender2[\"Gender Percentage\"]=GenderPercentDict.values() #set the values of the dictionary, a list, as the values in the df\n",
    "Gender2.head()"
   ]
  },
  {
   "cell_type": "markdown",
   "metadata": {},
   "source": [
    "\n",
    "## Purchasing Analysis (Gender)"
   ]
  },
  {
   "cell_type": "markdown",
   "metadata": {},
   "source": [
    "* Run basic calculations to obtain purchase count, avg. purchase price, avg. purchase total per person etc. by gender\n",
    "\n",
    "\n",
    "\n",
    "\n",
    "* Create a summary data frame to hold the results\n",
    "\n",
    "\n",
    "* Optional: give the displayed data cleaner formatting\n",
    "\n",
    "\n",
    "* Display the summary data frame"
   ]
  },
  {
   "cell_type": "code",
   "execution_count": 26,
   "metadata": {},
   "outputs": [
    {
     "name": "stdout",
     "output_type": "stream",
     "text": [
      "{'Lisim78': 0, 'Lisovynya38': 0, 'Ithergue48': 0, 'Chamassasya86': 0, 'Iskosia90': 0, 'Yalae81': 0, 'Itheria73': 0, 'Iskjaskst81': 0, 'Undjask33': 0, 'Chanosian48': 0, 'Inguron55': 0, 'Haisrisuir60': 0, 'Saelaephos52': 0, 'Assjaskan73': 0, 'Saesrideu94': 0, 'Lisassa64': 0, 'Lisirra25': 0, 'Zontibe81': 0, 'Reunasu60': 0, 'Chamalo71': 0, 'Iathenudil29': 0, 'Phiarithdeu40': 0, 'Siarithria38': 0, 'Eyrian71': 0, 'Siala43': 0, 'Lisirra87': 0, 'Lirtossa84': 0, 'Eusri44': 0, 'Aela59': 0, 'Tyida79': 0, 'Idai61': 0, 'Farusrian86': 0, 'Aeralria27': 0, 'Haillyrgue51': 0, 'Sondim73': 0, 'Jeyciman68': 0, 'Idaisuir85': 0, 'Seuthep89': 0, 'Reulae52': 0, 'Sondilsaya62': 0, 'Aerithriaphos45': 0, 'Assosia88': 0, 'Aidaillodeu39': 0, 'Aelly27': 0, 'Tyeosri53': 0, 'Haerith37': 0, 'Yasrisu92': 0, 'Chanuchi25': 0, 'Asur96': 0, 'Iaralrgue74': 0, 'Chanosia34': 0, 'Aelin32': 0, 'Ilosianya35': 0, 'Zhisrisu83': 0, 'Phaelap26': 0, 'Raesty92': 0, 'Palyon91': 0, 'Tyisur83': 0, 'Yaliru88': 0, 'Yadanu52': 0, 'Jiskimya77': 0, 'Yadaphos40': 0, 'Alo38': 0, 'Phaena87': 0, 'Chamirraya83': 0, 'Chanastsda67': 0, 'Indonmol95': 0, 'Jiskossa61': 0, 'Pheodai94': 0, 'Hari50': 0, 'Marilsa69': 0, 'Assistasda42': 0, 'Lisosia93': 0, 'Philodil43': 0, 'Mindadaran26': 0, 'Lirtosia63': 0, 'Assjaskan56': 0, 'Irithlis29': 0, 'Heudai45': 0, 'Haerithp41': 0, 'Aina42': 0, 'Jiskjask60': 0, 'Umolrian85': 0, 'Qarirwen82': 0, 'Laedallo55': 0, 'Eoralrap26': 0, 'Undosian34': 0, 'Chadolyla44': 0, 'Chadistaya75': 0, 'Yathedeu43': 0, 'Aina43': 0, 'Ilassast39': 0, 'Lisassala98': 0, 'Aiduecal76': 0, 'Chadossa89': 0, 'Pheodaisun84': 0, 'Heollyriap59': 0, 'Maropast28': 0, 'Frichim77': 0, 'Thryallym62': 0, 'Eulanurin88': 0, 'Lassjaskan73': 0, 'Tyaerith73': 0, 'Sondadarya58': 0, 'Hirirap39': 0, 'Ririp86': 0, 'Sundim98': 0, 'Iskichinya81': 0, 'Phyali88': 0, 'Undirrala66': 0, 'Nitherian58': 0, 'Lassilsala30': 0, 'Frichaststa61': 0, 'Frichosia58': 0, 'Ilosia37': 0, 'Lisista27': 0, 'Seudaillorap38': 0, 'Aesty53': 0, 'Yathecal82': 0, 'Lisossanya98': 0, 'Iral74': 0, 'Lisast87': 0, 'Maridisya31': 0, 'Jiskassa76': 0, 'Ethriel85': 0, 'Iskirra45': 0, 'Iri67': 0, 'Rarallo90': 0, 'Lisasi93': 0, 'Adastirin33': 0, 'Eyista89': 0, 'Ili43': 0, 'Chamirra53': 0, 'Hailaphos89': 0, 'Iskadarya95': 0, 'Qilatista90': 0, 'Inasti31': 0, 'Marilsanya48': 0, 'Marjask87': 0, 'Chanjaskan89': 0, 'Hyaduesu61': 0, 'Aillyrin83': 0, 'Marast30': 0, 'Sundadar27': 0, 'Tyaelorap29': 0, 'Lirtimst73': 0, 'Styaduen40': 0, 'Sidap51': 0, 'Chanastst38': 0, 'Lirtassa52': 0, 'Sondim68': 0, 'Aeral97': 0, 'Heosurnuru52': 0, 'Lisopela58': 0, 'Caesrinusuir82': 0, 'Tyirinu79': 0, 'Fironon91': 0, 'Lassjask63': 0, 'Indcil77': 0, 'Chamimla73': 0, 'Syathe73': 0, 'Baelollodeu94': 0, 'Mindista32': 0, 'Saena74': 0, 'Marirrasta50': 0, 'Lamil79': 0, 'Aenarap34': 0, 'Aisur51': 0, 'Thrientossa55': 0, 'Chadista79': 0, 'Tyeurith29': 0, 'Malunil62': 0, 'Hiasri33': 0, 'Lisadar44': 0, 'Frichjask31': 0, 'Lisjaskya84': 0, 'Ristydru66': 0, 'Frichast28': 0, 'Minduri31': 0, 'Maradaran90': 0, 'Mindetosya30': 0, 'Ialallo29': 0, 'Pheusrical25': 0, 'Chanosia60': 0, 'Phistym51': 0, 'Aelollo59': 0, 'Chamimla85': 0, 'Haisurra41': 0, 'Sondastsda82': 0, 'Qilanrion65': 0, 'Eulasuir89': 0, 'Eosrirgue62': 0, 'Shaidanu32': 0, 'Lirtastan49': 0, 'Iaralsuir44': 0, 'Tyeudariasuir90': 0, 'Cosadar58': 0, 'Aelastirin39': 0, 'Aidai53': 0, 'Jiskjask85': 0, 'Ealrion88': 0, 'Chamjask73': 0, 'Tyaenasti87': 0, 'Alim85': 0, 'Haeladil46': 0, 'Jiskirran77': 0, 'Undosia27': 0, 'Peorith44': 0, 'Yarithsurgue62': 0, 'Taeduenu92': 0, 'Rairin89': 0, 'Aerithriaphos46': 0, 'Idairin51': 0, 'Lisista54': 0, 'Eodailis27': 0, 'Lirtastsda29': 0, 'Undilsan50': 0, 'Eodaisu60': 0, 'Quaranmol58': 0, 'Lirtossa60': 0, 'Lirtilsa71': 0, 'Isursuir31': 0, 'Sundirrala66': 0, 'Saerallora71': 0, 'Iasur80': 0, 'Tyaelo67': 0, 'Quanunwen42': 0, 'Yasur35': 0, 'Assehoan67': 0, 'Haellysu29': 0, 'Saida58': 0, 'Chamadar79': 0, 'Aeral43': 0, 'Lirtirra37': 0, 'Tyidaim51': 0, 'Lassassast73': 0, 'Assassasta79': 0, 'Heollyra92': 0, 'Anallorgue57': 0, 'Aerithllora36': 0, 'Smaistysu35': 0, 'Ennalmol65': 0, 'Yarithrgue83': 0, 'Yana46': 0, 'Sondimla25': 0, 'Aidai61': 0, 'Wailin72': 0, 'Firan91': 0, 'Alaesu91': 0, 'Aellynun67': 0, 'Rilaera56': 0, 'Eulaestira36': 0, 'Marim28': 0, 'Idastidru52': 0, 'Ilirrasda54': 0, 'Alaephos75': 0, 'Syalollorap93': 0, 'Minduli80': 0, 'Chanastya70': 0, 'Frichadaran88': 0, 'Siallylis44': 0, 'Aeri84': 0, 'Iasursti71': 0, 'Mindilsa34': 0, 'Chamastya76': 0, 'Undirra73': 0, 'Aestysu37': 0, 'Chadadarla74': 0, 'Strithenu87': 0, 'Iasrira89': 0, 'Ialidru40': 0, 'Tyalaesu89': 0, 'Tyidainu31': 0, 'Lirtilsa72': 0, 'Undjaskla97': 0, 'Saedaiphos46': 0, 'Aerithnucal56': 0, 'Lisossa46': 0, 'Layjask75': 0, 'Lisista63': 0, 'Ceoral34': 0, 'Hilaerin92': 0, 'Chadilsasta32': 0, 'Undassa89': 0, 'Iduenu77': 0, 'Lisosia66': 0, 'Undimsya85': 0, 'Phaedue89': 0, 'Yadacal26': 0, 'Lisossa25': 0, 'Ilmol66': 0, 'Yastyriaphos75': 0, 'Hiasurria41': 0, 'Palatyon26': 0, 'Qilalista41': 0, 'Hada39': 0, 'Chamilsala65': 0, 'Rairith81': 0, 'Ilarin91': 0, 'Ryanara76': 0, 'Undista85': 0, 'Tyeoralru41': 0, 'Pheosrinudeu70': 0, 'Heuli25': 0, 'Pheutherin27': 0, 'Chadirra90': 0, 'Ali84': 0, 'Frichjaskan98': 0, 'Malil90': 0, 'Yarithllodeu72': 0, 'Tyaedainu44': 0, 'Ethron58': 0, 'Eusurdeu49': 0, 'Saistyphos30': 0, 'Saisrilis27': 0, 'Hallysucal81': 0, 'Ilimya66': 0, 'Raysistast71': 0, 'Haedairiadru51': 0, 'Tyananurgue44': 0, 'Risty84': 0, 'Aerillorin70': 0, 'Phistyn52': 0, 'Yalo85': 0, 'Chamirrasya33': 0, 'Hiral75': 0, 'Isursti83': 0, 'Bartassaya73': 0, 'Aeda94': 0, 'Quinarap53': 0, 'Asur53': 0, 'Alarap40': 0, 'Sida61': 0, 'Hiarideu73': 0, 'Lassassasda30': 0, 'Ennoncil86': 0, 'Siralsudeu54': 0, 'Eusri26': 0, 'Ardcil81': 0, 'Marilsasya33': 0, 'Lirtim36': 0, 'Heunadil74': 0, 'Frichadar89': 0, 'Aesurstilis64': 0, 'Idaidil28': 0, 'Lisotesta51': 0, 'Lisico81': 0, 'Lisiriya82': 0, 'Siana77': 0, 'Marokian45': 0, 'Sausosia74': 0, 'Assesi91': 0, 'Eusri70': 0, 'Aisurria69': 0, 'Iarilis73': 0, 'Raisty38': 0, 'Ilista82': 0, 'Leyirra83': 0, 'Aiduesu86': 0, 'Frichynde86': 0, 'Hisridru55': 0, 'Chamossa77': 0, 'Irillo49': 0, 'Lirtastsya71': 0, 'Frichosiala98': 0, 'Qilunan34': 0, 'Quarrion42': 0, 'Aisurdru79': 0, 'Hiaral50': 0, 'Iarallo65': 0, 'Sondassasya91': 0, 'Chanossast57': 0, 'Chanjask65': 0, 'Ethralista69': 0, 'Sondistanya61': 0, 'Eudanu32': 0, 'Euthe35': 0, 'Lassimla92': 0, 'Lisossala30': 0, 'Eulae84': 0, 'Chamadarnya73': 0, 'Eolan54': 0, 'Assistasda90': 0, 'Ennrian78': 0, 'Undirrasta89': 0, 'Rianistast50': 0, 'Undare39': 0, 'Adairialis76': 0, 'Aesur96': 0, 'Tyialisudeu65': 0, 'Arirgue63': 0, 'Sundadarla27': 0, 'Eyircil84': 0, 'Ina92': 0, 'Lirtistanya48': 0, 'Marassa62': 0, 'Mindossa76': 0, 'Salilis27': 0, 'Sondossa69': 0, 'Sundjask71': 0, 'Errian63': 0, 'Eurithphos97': 0, 'Raillydeu47': 0, 'Malon70': 0, 'Jiskimsda56': 0, 'Marughi89': 0, 'Ingatcil75': 0, 'Chanirrasta87': 0, 'Alaesu77': 0, 'Ermol76': 0, 'Tyeuduen32': 0, 'Firon67': 0, 'Iadueria43': 0, 'Pheulidil31': 0, 'Eodairu79': 0, 'Frichocesta66': 0, 'Thourdirra92': 0, 'Chanastnya43': 0, 'Iskim96': 0, 'Eulolis41': 0, 'Sastydeu50': 0, 'Ilaesudil92': 0, 'Yasur85': 0, 'Aidain51': 0, 'Aerithnuphos61': 0, 'Yalostiphos68': 0, 'Meosridil82': 0, 'Aillyriadru65': 0, 'Sally64': 0, 'Lisim51': 0, 'Isurria36': 0, 'Silaera56': 0, 'Leetirraya83': 0, 'Lirtirra81': 0, 'Eryon48': 0, 'Iana95': 0, 'Sondassan80': 0, 'Chanadar44': 0, 'Eosurdru76': 0, 'Shidai42': 0, 'Aesri53': 0, 'Syally44': 0, 'Jiskadarst60': 0, 'Sondadar26': 0, 'Malarrian73': 0, 'Maluncil97': 0, 'Ilunyon70': 0, 'Yadam35': 0, 'Dyally87': 0, 'Pheosurllorin41': 0, 'Frichaya88': 0, 'Lassadarsda57': 0, 'Marynde90': 0, 'Isri34': 0, 'Assastnya25': 0, 'Ardonmol96': 0, 'Lassirrasda85': 0, 'Chadossa56': 0, 'Poshilsa82': 0, 'Yoishirrala98': 0, 'Sundista37': 0, 'Ilassa51': 0, 'Filurarn35': 0, 'Phaestycal84': 0, 'Irilis75': 0, 'Aeralstical35': 0, 'Chanirrala39': 0, 'Chanirra79': 0, 'Assirra56': 0, 'Seolollo93': 0, 'Iathem87': 0, 'Iasurriacal29': 0, 'Lisast98': 0, 'Filrion59': 0, 'Halaecal66': 0, 'Iskosian40': 0, 'Ilastilis78': 0, 'Seosrim97': 0, 'Farrian71': 0, 'Rithe53': 0, 'Frichossala54': 0, 'Chamjaskya75': 0, 'Quanrion96': 0, 'Tyaelaelis94': 0, 'Quanenrian83': 0, 'Chanirra64': 0, 'Yadaisuir65': 0, 'Syathecal44': 0, 'Arin32': 0, 'Aelaria33': 0, 'Assassa81': 0, 'Filrion83': 0, 'Eoral49': 0, 'Airi27': 0, 'Eurisuru25': 0, 'Liawista80': 0, 'Lisirra58': 0, 'Chamadarsda63': 0, 'Haestyphos66': 0, 'Phaedasurap84': 0, 'Mindimnya67': 0, 'Chadjask85': 0, 'Eustyria89': 0, 'Iskim66': 0, 'Chamast86': 0, 'Lirtassan78': 0, 'Ethrasyon38': 0, 'Quilassa66': 0, 'Lisassasda39': 0, 'Mindilsa60': 0, 'Lalossa38': 0, 'Chamistast30': 0, 'Hariphos58': 0, 'Assilsan72': 0, 'Inasuir29': 0, 'Chanilsasda38': 0, 'Mindesi74': 0, 'Ililsan66': 0, 'Idacal95': 0, 'Aeral68': 0, 'Tyarithn67': 0, 'Asty82': 0, 'Yalaeria91': 0, 'Chadjask77': 0, 'Ealiril69': 0, 'Quaecjask96': 0, 'Firatan58': 0, 'Yarolwen77': 0, 'Tyaelistidru84': 0, 'Yarithrin84': 0, 'Tyaelly53': 0, 'Phiristi62': 0, 'Ililsasya43': 0, 'Aithelis62': 0, 'Undotesta33': 0, 'Aelidru27': 0, 'Chanossanya44': 0, 'Maradarnya40': 0, 'Lisilsa62': 0, 'Saena89': 0, 'Chanilsast61': 0, 'Sundassa93': 0, 'Aidai73': 0, 'Indirrian56': 0, 'Lisassasta50': 0, 'Iduelis31': 0, 'Chanosiaya39': 0, 'Assylla81': 0, 'Aidaira26': 0, 'Eudanu84': 0, 'Chamiman85': 0, 'Tyialisti80': 0, 'Marundi65': 0, 'Eusur90': 0, 'Mindirranya33': 0, 'Phiallylis33': 0, 'Isty55': 0, 'Frichilsa31': 0, 'Chanista95': 0, 'Aellyria80': 0, 'Rastynusuir31': 0, 'Iljask75': 0, 'Lisjaskan36': 0, 'Mindjasksya61': 0, 'Frichirranya75': 0, 'Ilast79': 0, 'Eratiel90': 0, 'Assim27': 0, 'Irith83': 0, 'Ilosian36': 0, 'Iskossasda43': 0, 'Hala31': 0, 'Jiskjask80': 0, 'Aethedru70': 0, 'Yathecal72': 0, 'Sisur91': 0}\n"
     ]
    },
    {
     "data": {
      "text/html": [
       "<div>\n",
       "<style scoped>\n",
       "    .dataframe tbody tr th:only-of-type {\n",
       "        vertical-align: middle;\n",
       "    }\n",
       "\n",
       "    .dataframe tbody tr th {\n",
       "        vertical-align: top;\n",
       "    }\n",
       "\n",
       "    .dataframe thead th {\n",
       "        text-align: right;\n",
       "    }\n",
       "</style>\n",
       "<table border=\"1\" class=\"dataframe\">\n",
       "  <thead>\n",
       "    <tr style=\"text-align: right;\">\n",
       "      <th></th>\n",
       "      <th>Gender Percentage</th>\n",
       "      <th>Purchase Count</th>\n",
       "      <th>Average Purchase Price</th>\n",
       "      <th>Avg Total Purchase per Person</th>\n",
       "    </tr>\n",
       "    <tr>\n",
       "      <th>Gender</th>\n",
       "      <th></th>\n",
       "      <th></th>\n",
       "      <th></th>\n",
       "      <th></th>\n",
       "    </tr>\n",
       "  </thead>\n",
       "  <tbody>\n",
       "    <tr>\n",
       "      <td>Male</td>\n",
       "      <td>0.835897</td>\n",
       "      <td>652</td>\n",
       "      <td>3.01785</td>\n",
       "      <td>None</td>\n",
       "    </tr>\n",
       "    <tr>\n",
       "      <td>Other / Non-Disclosed</td>\n",
       "      <td>0.019231</td>\n",
       "      <td>15</td>\n",
       "      <td>3.346</td>\n",
       "      <td>None</td>\n",
       "    </tr>\n",
       "    <tr>\n",
       "      <td>Female</td>\n",
       "      <td>0.144872</td>\n",
       "      <td>113</td>\n",
       "      <td>3.20301</td>\n",
       "      <td>None</td>\n",
       "    </tr>\n",
       "  </tbody>\n",
       "</table>\n",
       "</div>"
      ],
      "text/plain": [
       "                       Gender Percentage  Purchase Count  \\\n",
       "Gender                                                     \n",
       "Male                            0.835897             652   \n",
       "Other / Non-Disclosed           0.019231              15   \n",
       "Female                          0.144872             113   \n",
       "\n",
       "                      Average Purchase Price Avg Total Purchase per Person  \n",
       "Gender                                                                      \n",
       "Male                                 3.01785                          None  \n",
       "Other / Non-Disclosed                  3.346                          None  \n",
       "Female                               3.20301                          None  "
      ]
     },
     "execution_count": 26,
     "metadata": {},
     "output_type": "execute_result"
    }
   ],
   "source": [
    "Gender2[\"Purchase Count\"] = None\n",
    "Gender2[\"Average Purchase Price\"] = None\n",
    "Gender2[\"Avg Total Purchase per Person\"]=None\n",
    "\n",
    "\n",
    "Gender2.iloc[0,1] = purchase_data.loc[purchase_data[\"Gender\"]==\"Male\",\"Gender\"].count()\n",
    "Gender2.iloc[0,2]= purchase_data.loc[purchase_data[\"Gender\"]==\"Male\",\"Price\"].mean()\n",
    "\n",
    "Gender2.iloc[1,1] = purchase_data.loc[purchase_data[\"Gender\"]==\"Other / Non-Disclosed\",\"Gender\"].count()\n",
    "Gender2.iloc[1,2]= purchase_data.loc[purchase_data[\"Gender\"]==\"Other / Non-Disclosed\",\"Price\"].mean()\n",
    "\n",
    "\n",
    "Gender2.iloc[2,1] = purchase_data.loc[purchase_data[\"Gender\"]==\"Female\",\"Gender\"].count()\n",
    "Gender2.iloc[2,2]= purchase_data.loc[purchase_data[\"Gender\"]==\"Female\",\"Price\"].mean()\n",
    "\n",
    "TotalPurchasePerPersonDict={}\n",
    "\n",
    "for i in purchase_data[\"SN\"]:\n",
    "    if i not in TotalPurchasePerPersonDict:\n",
    "        TotalPurchasePerPersonDict[i]=0\n",
    "\n",
    "print(TotalPurchasePerPersonDict)\n",
    "    \n",
    "\n",
    "#Gender2.loc[\"Male\",\"Avg Total Purchase per Person\"] = \\\n",
    "#purchase_data.loc[purchase_data[\"Gender\"]==\"Male\",]\n",
    "purchase_data[\"SN\"].nunique()\n",
    "purchase_data[\"SN\"].count()\n",
    "Gender2"
   ]
  },
  {
   "cell_type": "markdown",
   "metadata": {},
   "source": [
    "## Age Demographics"
   ]
  },
  {
   "cell_type": "markdown",
   "metadata": {},
   "source": [
    "* Establish bins for ages\n",
    "\n",
    "\n",
    "* Categorize the existing players using the age bins. Hint: use pd.cut()\n",
    "\n",
    "\n",
    "* Calculate the numbers and percentages by age group\n",
    "\n",
    "\n",
    "* Create a summary data frame to hold the results\n",
    "\n",
    "\n",
    "* Optional: round the percentage column to two decimal points\n",
    "\n",
    "\n",
    "* Display Age Demographics Table\n"
   ]
  },
  {
   "cell_type": "code",
   "execution_count": null,
   "metadata": {},
   "outputs": [],
   "source": []
  },
  {
   "cell_type": "markdown",
   "metadata": {},
   "source": [
    "## Purchasing Analysis (Age)"
   ]
  },
  {
   "cell_type": "markdown",
   "metadata": {},
   "source": [
    "* Bin the purchase_data data frame by age\n",
    "\n",
    "\n",
    "* Run basic calculations to obtain purchase count, avg. purchase price, avg. purchase total per person etc. in the table below\n",
    "\n",
    "\n",
    "* Create a summary data frame to hold the results\n",
    "\n",
    "\n",
    "* Optional: give the displayed data cleaner formatting\n",
    "\n",
    "\n",
    "* Display the summary data frame"
   ]
  },
  {
   "cell_type": "code",
   "execution_count": null,
   "metadata": {},
   "outputs": [],
   "source": []
  },
  {
   "cell_type": "markdown",
   "metadata": {},
   "source": [
    "## Top Spenders"
   ]
  },
  {
   "cell_type": "markdown",
   "metadata": {},
   "source": [
    "* Run basic calculations to obtain the results in the table below\n",
    "\n",
    "\n",
    "* Create a summary data frame to hold the results\n",
    "\n",
    "\n",
    "* Sort the total purchase value column in descending order\n",
    "\n",
    "\n",
    "* Optional: give the displayed data cleaner formatting\n",
    "\n",
    "\n",
    "* Display a preview of the summary data frame\n",
    "\n"
   ]
  },
  {
   "cell_type": "code",
   "execution_count": null,
   "metadata": {},
   "outputs": [],
   "source": []
  },
  {
   "cell_type": "markdown",
   "metadata": {},
   "source": [
    "## Most Popular Items"
   ]
  },
  {
   "cell_type": "markdown",
   "metadata": {},
   "source": [
    "* Retrieve the Item ID, Item Name, and Item Price columns\n",
    "\n",
    "\n",
    "* Group by Item ID and Item Name. Perform calculations to obtain purchase count, item price, and total purchase value\n",
    "\n",
    "\n",
    "* Create a summary data frame to hold the results\n",
    "\n",
    "\n",
    "* Sort the purchase count column in descending order\n",
    "\n",
    "\n",
    "* Optional: give the displayed data cleaner formatting\n",
    "\n",
    "\n",
    "* Display a preview of the summary data frame\n",
    "\n"
   ]
  },
  {
   "cell_type": "code",
   "execution_count": null,
   "metadata": {},
   "outputs": [],
   "source": []
  },
  {
   "cell_type": "markdown",
   "metadata": {},
   "source": [
    "## Most Profitable Items"
   ]
  },
  {
   "cell_type": "markdown",
   "metadata": {},
   "source": [
    "* Sort the above table by total purchase value in descending order\n",
    "\n",
    "\n",
    "* Optional: give the displayed data cleaner formatting\n",
    "\n",
    "\n",
    "* Display a preview of the data frame\n",
    "\n"
   ]
  },
  {
   "cell_type": "code",
   "execution_count": null,
   "metadata": {
    "scrolled": true
   },
   "outputs": [],
   "source": []
  }
 ],
 "metadata": {
  "anaconda-cloud": {},
  "kernel_info": {
   "name": "python3"
  },
  "kernelspec": {
   "display_name": "Python 3",
   "language": "python",
   "name": "python3"
  },
  "language_info": {
   "codemirror_mode": {
    "name": "ipython",
    "version": 3
   },
   "file_extension": ".py",
   "mimetype": "text/x-python",
   "name": "python",
   "nbconvert_exporter": "python",
   "pygments_lexer": "ipython3",
   "version": "3.6.9"
  },
  "latex_envs": {
   "LaTeX_envs_menu_present": true,
   "autoclose": false,
   "autocomplete": true,
   "bibliofile": "biblio.bib",
   "cite_by": "apalike",
   "current_citInitial": 1,
   "eqLabelWithNumbers": true,
   "eqNumInitial": 1,
   "hotkeys": {
    "equation": "Ctrl-E",
    "itemize": "Ctrl-I"
   },
   "labels_anchors": false,
   "latex_user_defs": false,
   "report_style_numbering": false,
   "user_envs_cfg": false
  },
  "nteract": {
   "version": "0.2.0"
  }
 },
 "nbformat": 4,
 "nbformat_minor": 2
}
